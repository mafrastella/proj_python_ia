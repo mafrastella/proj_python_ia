{
  "nbformat": 4,
  "nbformat_minor": 0,
  "metadata": {
    "colab": {
      "provenance": []
    },
    "kernelspec": {
      "name": "python3",
      "display_name": "Python 3"
    },
    "language_info": {
      "name": "python"
    }
  },
  "cells": [
    {
      "cell_type": "markdown",
      "source": [
        "Pip é o gerenciador de pacotes do python, responsável pela instalação das bibliotecas usadas ela linguagem."
      ],
      "metadata": {
        "id": "FTu7angP6OTB"
      }
    },
    {
      "cell_type": "code",
      "source": [
        "pip install nltk textblob"
      ],
      "metadata": {
        "colab": {
          "base_uri": "https://localhost:8080/"
        },
        "id": "NIIsnolq6HpL",
        "outputId": "a98d0b54-899e-430f-e7df-59f1c586a425"
      },
      "execution_count": 1,
      "outputs": [
        {
          "output_type": "stream",
          "name": "stdout",
          "text": [
            "Requirement already satisfied: nltk in /usr/local/lib/python3.10/dist-packages (3.8.1)\n",
            "Requirement already satisfied: textblob in /usr/local/lib/python3.10/dist-packages (0.17.1)\n",
            "Requirement already satisfied: click in /usr/local/lib/python3.10/dist-packages (from nltk) (8.1.7)\n",
            "Requirement already satisfied: joblib in /usr/local/lib/python3.10/dist-packages (from nltk) (1.4.2)\n",
            "Requirement already satisfied: regex>=2021.8.3 in /usr/local/lib/python3.10/dist-packages (from nltk) (2024.9.11)\n",
            "Requirement already satisfied: tqdm in /usr/local/lib/python3.10/dist-packages (from nltk) (4.66.5)\n"
          ]
        }
      ]
    },
    {
      "cell_type": "code",
      "source": [
        "import nltk\n",
        "from nltk.corpus import stopwords\n",
        "from nltk.tokenize import word_tokenize\n",
        "from textblob import TextBlob\n"
      ],
      "metadata": {
        "id": "F1xKJmOj7P8P"
      },
      "execution_count": 6,
      "outputs": []
    },
    {
      "cell_type": "markdown",
      "source": [
        "Baixar os componentes NLTK necessários"
      ],
      "metadata": {
        "id": "Tu7cBqsy97Ac"
      }
    },
    {
      "cell_type": "code",
      "source": [
        "nltk.download('punkt')\n",
        "nltk.download('stopwords')"
      ],
      "metadata": {
        "colab": {
          "base_uri": "https://localhost:8080/"
        },
        "id": "LCd-BV0H_J7n",
        "outputId": "fe1e6cee-721b-43f4-8411-5bfca0eb175b"
      },
      "execution_count": 9,
      "outputs": [
        {
          "output_type": "stream",
          "name": "stderr",
          "text": [
            "[nltk_data] Downloading package punkt to /root/nltk_data...\n",
            "[nltk_data]   Unzipping tokenizers/punkt.zip.\n",
            "[nltk_data] Downloading package stopwords to /root/nltk_data...\n",
            "[nltk_data]   Unzipping corpora/stopwords.zip.\n"
          ]
        },
        {
          "output_type": "execute_result",
          "data": {
            "text/plain": [
              "True"
            ]
          },
          "metadata": {},
          "execution_count": 9
        }
      ]
    },
    {
      "cell_type": "markdown",
      "source": [
        "Função de pré processamento de texto"
      ],
      "metadata": {
        "id": "K1iBGNd2ARmU"
      }
    },
    {
      "cell_type": "code",
      "source": [
        "def preprocesso(texto):\n",
        "  #Tokenização\n",
        "  tokens = word_tokenize(texto.lower())\n",
        "\n",
        "  #Remover os espaços das frases\n",
        "  espaços = set(stopwords.words('english'))\n",
        "\n",
        "  #Filtrando os tokens\n",
        "  tokens_filtrados = [palavra for palavra in tokens if palavra.isalnum() and palavra not in espaços]\n",
        "\n",
        "  #Retorno da função\n",
        "  return ' '.join(tokens_filtrados)"
      ],
      "metadata": {
        "id": "9ahlqZQPA0pm"
      },
      "execution_count": 14,
      "outputs": []
    },
    {
      "cell_type": "markdown",
      "source": [
        "Função para analise de sentimentos"
      ],
      "metadata": {
        "id": "Hk36SlmPG65m"
      }
    },
    {
      "cell_type": "code",
      "source": [
        "def sentimentos(texto):\n",
        "\n",
        "  #Limpando o texto digitado\n",
        "  texto_limpo = preprocesso(texto)\n",
        "\n",
        "  #Análise de sentimento do texto\n",
        "  blob = TextBlob(texto_limpo)\n",
        "\n",
        "  #Aplicando a polaridade do sentimento\n",
        "  sentimento = blob.sentiment.polarity\n",
        "\n",
        "  #Retornando a pontuação\n",
        "  return sentimento"
      ],
      "metadata": {
        "id": "EmH9XuqfHywT"
      },
      "execution_count": 12,
      "outputs": []
    },
    {
      "cell_type": "markdown",
      "source": [
        "Listas de frases com sentimento"
      ],
      "metadata": {
        "id": "40XMvyhDKW8t"
      }
    },
    {
      "cell_type": "code",
      "source": [
        "frases = [\n",
        "    \"The app exceeded my expectations.\",\n",
        "    \"Constant updates with great news, I recommend it.\",\n",
        "    \"Best app in its category, beautiful design and complete functions!\",\n",
        "    \"Very useful! Does what it promises quickly and efficiently.\",\n",
        "    \"After the last update, performance got worse. Needs adjustments.\",\n",
        "    \"Lots of advertisements that interfere with use, I hated it.\",\n",
        "    \"Customer service takes too long to respond and does not resolve the issue.\",\n",
        "    \"I found the design confusing and difficult to navigate.\",\n",
        "    \"It needs a lot of improvements, I don't recommend it.\",\n",
        "    \"Very light and doesn't take up much space on your cell phone. I recommend.\"\n",
        "]"
      ],
      "metadata": {
        "id": "Ylv5Pjb0KbyE"
      },
      "execution_count": 13,
      "outputs": []
    },
    {
      "cell_type": "markdown",
      "source": [
        "Exibindo a frase e sua pontuação"
      ],
      "metadata": {
        "id": "7lH-Upm0NYKB"
      }
    },
    {
      "cell_type": "code",
      "source": [
        "for comentario in frases:\n",
        "  nivel = sentimentos(comentario)\n",
        "  print(f\"Comentario: {comentario}\\nPontuação:{round(nivel,2)}\\n\")"
      ],
      "metadata": {
        "colab": {
          "base_uri": "https://localhost:8080/"
        },
        "id": "1IMjKboyNcsy",
        "outputId": "b7ea8d27-298b-40f4-ed86-a39d82254f41"
      },
      "execution_count": 18,
      "outputs": [
        {
          "output_type": "stream",
          "name": "stdout",
          "text": [
            "Comentario: The app exceeded my expectations.\n",
            "Pontuação:0.0\n",
            "\n",
            "Comentario: Constant updates with great news, I recommend it.\n",
            "Pontuação:0.4\n",
            "\n",
            "Comentario: Best app in its category, beautiful design and complete functions!\n",
            "Pontuação:0.65\n",
            "\n",
            "Comentario: Very useful! Does what it promises quickly and efficiently.\n",
            "Pontuação:0.32\n",
            "\n",
            "Comentario: After the last update, performance got worse. Needs adjustments.\n",
            "Pontuação:-0.2\n",
            "\n",
            "Comentario: Lots of advertisements that interfere with use, I hated it.\n",
            "Pontuação:-0.9\n",
            "\n",
            "Comentario: Customer service takes too long to respond and does not resolve the issue.\n",
            "Pontuação:-0.05\n",
            "\n",
            "Comentario: I found the design confusing and difficult to navigate.\n",
            "Pontuação:-0.4\n",
            "\n",
            "Comentario: It needs a lot of improvements, I don't recommend it.\n",
            "Pontuação:0.0\n",
            "\n",
            "Comentario: Very light and doesn't take up much space on your cell phone. I recommend.\n",
            "Pontuação:0.3\n",
            "\n"
          ]
        }
      ]
    }
  ]
}