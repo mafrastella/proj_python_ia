{
 "cells": [
  {
   "cell_type": "markdown",
   "metadata": {},
   "source": [
    "A linha abaixo instala o scikit-learn que serve para treinamento de maquina (marchine learning)"
   ]
  },
  {
   "cell_type": "code",
   "execution_count": 1,
   "metadata": {},
   "outputs": [
    {
     "name": "stdout",
     "output_type": "stream",
     "text": [
      "Collecting scikit-learn\n",
      "  Downloading scikit_learn-1.5.2-cp312-cp312-win_amd64.whl.metadata (13 kB)\n",
      "Collecting numpy>=1.19.5 (from scikit-learn)\n",
      "  Downloading numpy-2.1.1-cp312-cp312-win_amd64.whl.metadata (59 kB)\n",
      "     ---------------------------------------- 0.0/59.7 kB ? eta -:--:--\n",
      "     ------------------- ------------------ 30.7/59.7 kB 660.6 kB/s eta 0:00:01\n",
      "     ---------------------------------------- 59.7/59.7 kB 1.1 MB/s eta 0:00:00\n",
      "Collecting scipy>=1.6.0 (from scikit-learn)\n",
      "  Downloading scipy-1.14.1-cp312-cp312-win_amd64.whl.metadata (60 kB)\n",
      "     ---------------------------------------- 0.0/60.8 kB ? eta -:--:--\n",
      "     ---------------------------------------- 60.8/60.8 kB 1.6 MB/s eta 0:00:00\n",
      "Collecting joblib>=1.2.0 (from scikit-learn)\n",
      "  Downloading joblib-1.4.2-py3-none-any.whl.metadata (5.4 kB)\n",
      "Collecting threadpoolctl>=3.1.0 (from scikit-learn)\n",
      "  Downloading threadpoolctl-3.5.0-py3-none-any.whl.metadata (13 kB)\n",
      "Downloading scikit_learn-1.5.2-cp312-cp312-win_amd64.whl (11.0 MB)\n",
      "   ---------------------------------------- 0.0/11.0 MB ? eta -:--:--\n",
      "   - -------------------------------------- 0.3/11.0 MB 5.7 MB/s eta 0:00:02\n",
      "   - -------------------------------------- 0.5/11.0 MB 6.7 MB/s eta 0:00:02\n",
      "   ------- -------------------------------- 2.1/11.0 MB 14.9 MB/s eta 0:00:01\n",
      "   ---------------- ----------------------- 4.6/11.0 MB 24.3 MB/s eta 0:00:01\n",
      "   --------------------------- ------------ 7.5/11.0 MB 31.7 MB/s eta 0:00:01\n",
      "   ------------------------------------- -- 10.2/11.0 MB 36.2 MB/s eta 0:00:01\n",
      "   ---------------------------------------  11.0/11.0 MB 54.7 MB/s eta 0:00:01\n",
      "   ---------------------------------------- 11.0/11.0 MB 43.7 MB/s eta 0:00:00\n",
      "Downloading joblib-1.4.2-py3-none-any.whl (301 kB)\n",
      "   ---------------------------------------- 0.0/301.8 kB ? eta -:--:--\n",
      "   --------------------------------------- 301.8/301.8 kB 18.2 MB/s eta 0:00:00\n",
      "Downloading numpy-2.1.1-cp312-cp312-win_amd64.whl (12.6 MB)\n",
      "   ---------------------------------------- 0.0/12.6 MB ? eta -:--:--\n",
      "   ---- ----------------------------------- 1.3/12.6 MB 40.3 MB/s eta 0:00:01\n",
      "   ----- ---------------------------------- 1.6/12.6 MB 20.9 MB/s eta 0:00:01\n",
      "   -------------- ------------------------- 4.5/12.6 MB 35.7 MB/s eta 0:00:01\n",
      "   ------------------ --------------------- 5.9/12.6 MB 34.2 MB/s eta 0:00:01\n",
      "   ---------------------- ----------------- 7.1/12.6 MB 32.3 MB/s eta 0:00:01\n",
      "   -------------------------- ------------- 8.4/12.6 MB 33.6 MB/s eta 0:00:01\n",
      "   ------------------------------ --------- 9.5/12.6 MB 30.4 MB/s eta 0:00:01\n",
      "   ------------------------------ --------- 9.6/12.6 MB 26.6 MB/s eta 0:00:01\n",
      "   --------------------------------- ------ 10.6/12.6 MB 25.2 MB/s eta 0:00:01\n",
      "   -------------------------------------- - 12.0/12.6 MB 27.3 MB/s eta 0:00:01\n",
      "   ---------------------------------------  12.6/12.6 MB 27.3 MB/s eta 0:00:01\n",
      "   ---------------------------------------- 12.6/12.6 MB 23.4 MB/s eta 0:00:00\n",
      "Downloading scipy-1.14.1-cp312-cp312-win_amd64.whl (44.5 MB)\n",
      "   ---------------------------------------- 0.0/44.5 MB ? eta -:--:--\n",
      "   - -------------------------------------- 1.6/44.5 MB 33.1 MB/s eta 0:00:02\n",
      "   -- ------------------------------------- 2.8/44.5 MB 35.3 MB/s eta 0:00:02\n",
      "   ---- ----------------------------------- 4.7/44.5 MB 33.2 MB/s eta 0:00:02\n",
      "   ----- ---------------------------------- 6.3/44.5 MB 33.5 MB/s eta 0:00:02\n",
      "   ------ --------------------------------- 7.8/44.5 MB 33.2 MB/s eta 0:00:02\n",
      "   -------- ------------------------------- 9.2/44.5 MB 32.8 MB/s eta 0:00:02\n",
      "   --------- ------------------------------ 10.5/44.5 MB 32.8 MB/s eta 0:00:02\n",
      "   ---------- ----------------------------- 11.3/44.5 MB 32.8 MB/s eta 0:00:02\n",
      "   ----------- ---------------------------- 13.3/44.5 MB 31.1 MB/s eta 0:00:02\n",
      "   ------------- -------------------------- 15.1/44.5 MB 31.2 MB/s eta 0:00:01\n",
      "   -------------- ------------------------- 16.6/44.5 MB 32.7 MB/s eta 0:00:01\n",
      "   ---------------- ----------------------- 18.0/44.5 MB 31.1 MB/s eta 0:00:01\n",
      "   ----------------- ---------------------- 19.0/44.5 MB 32.7 MB/s eta 0:00:01\n",
      "   ------------------ --------------------- 20.5/44.5 MB 31.2 MB/s eta 0:00:01\n",
      "   ------------------- -------------------- 22.0/44.5 MB 32.8 MB/s eta 0:00:01\n",
      "   -------------------- ------------------- 23.0/44.5 MB 31.2 MB/s eta 0:00:01\n",
      "   --------------------- ------------------ 23.9/44.5 MB 29.8 MB/s eta 0:00:01\n",
      "   ---------------------- ----------------- 25.2/44.5 MB 27.3 MB/s eta 0:00:01\n",
      "   ----------------------- ---------------- 26.2/44.5 MB 26.2 MB/s eta 0:00:01\n",
      "   ------------------------ --------------- 27.7/44.5 MB 27.3 MB/s eta 0:00:01\n",
      "   ------------------------- -------------- 27.9/44.5 MB 26.2 MB/s eta 0:00:01\n",
      "   ------------------------- -------------- 28.1/44.5 MB 21.9 MB/s eta 0:00:01\n",
      "   -------------------------- ------------- 29.0/44.5 MB 21.8 MB/s eta 0:00:01\n",
      "   -------------------------- ------------- 30.0/44.5 MB 21.1 MB/s eta 0:00:01\n",
      "   --------------------------- ------------ 30.6/44.5 MB 21.1 MB/s eta 0:00:01\n",
      "   ---------------------------- ----------- 32.3/44.5 MB 20.5 MB/s eta 0:00:01\n",
      "   ------------------------------ --------- 33.9/44.5 MB 21.1 MB/s eta 0:00:01\n",
      "   ------------------------------- -------- 35.5/44.5 MB 22.5 MB/s eta 0:00:01\n",
      "   --------------------------------- ------ 37.5/44.5 MB 23.4 MB/s eta 0:00:01\n",
      "   ----------------------------------- ---- 39.1/44.5 MB 27.3 MB/s eta 0:00:01\n",
      "   ------------------------------------ --- 40.4/44.5 MB 29.7 MB/s eta 0:00:01\n",
      "   ------------------------------------- -- 41.6/44.5 MB 31.2 MB/s eta 0:00:01\n",
      "   -------------------------------------- - 42.6/44.5 MB 31.2 MB/s eta 0:00:01\n",
      "   ---------------------------------------  43.6/44.5 MB 31.2 MB/s eta 0:00:01\n",
      "   ---------------------------------------  44.5/44.5 MB 27.3 MB/s eta 0:00:01\n",
      "   ---------------------------------------  44.5/44.5 MB 27.3 MB/s eta 0:00:01\n",
      "   ---------------------------------------  44.5/44.5 MB 27.3 MB/s eta 0:00:01\n",
      "   ---------------------------------------- 44.5/44.5 MB 19.3 MB/s eta 0:00:00\n",
      "Downloading threadpoolctl-3.5.0-py3-none-any.whl (18 kB)\n",
      "Installing collected packages: threadpoolctl, numpy, joblib, scipy, scikit-learn\n",
      "Successfully installed joblib-1.4.2 numpy-2.1.1 scikit-learn-1.5.2 scipy-1.14.1 threadpoolctl-3.5.0\n",
      "Note: you may need to restart the kernel to use updated packages.\n"
     ]
    },
    {
     "name": "stderr",
     "output_type": "stream",
     "text": [
      "  WARNING: The scripts f2py.exe and numpy-config.exe are installed in 'c:\\Users\\STELLARIBEIROMAFRA\\AppData\\Local\\Programs\\Python\\Python312\\Scripts' which is not on PATH.\n",
      "  Consider adding this directory to PATH or, if you prefer to suppress this warning, use --no-warn-script-location.\n",
      "\n",
      "[notice] A new release of pip is available: 24.0 -> 24.2\n",
      "[notice] To update, run: python.exe -m pip install --upgrade pip\n"
     ]
    }
   ],
   "source": [
    "pip install -U scikit-learn\n"
   ]
  },
  {
   "cell_type": "code",
   "execution_count": 2,
   "metadata": {},
   "outputs": [
    {
     "name": "stdout",
     "output_type": "stream",
     "text": [
      "Collecting pandas\n",
      "  Downloading pandas-2.2.3-cp312-cp312-win_amd64.whl.metadata (19 kB)\n",
      "Requirement already satisfied: numpy>=1.26.0 in c:\\users\\stellaribeiromafra\\appdata\\local\\programs\\python\\python312\\lib\\site-packages (from pandas) (2.1.1)\n",
      "Requirement already satisfied: python-dateutil>=2.8.2 in c:\\users\\stellaribeiromafra\\appdata\\roaming\\python\\python312\\site-packages (from pandas) (2.9.0.post0)\n",
      "Collecting pytz>=2020.1 (from pandas)\n",
      "  Downloading pytz-2024.2-py2.py3-none-any.whl.metadata (22 kB)\n",
      "Collecting tzdata>=2022.7 (from pandas)\n",
      "  Downloading tzdata-2024.2-py2.py3-none-any.whl.metadata (1.4 kB)\n",
      "Requirement already satisfied: six>=1.5 in c:\\users\\stellaribeiromafra\\appdata\\roaming\\python\\python312\\site-packages (from python-dateutil>=2.8.2->pandas) (1.16.0)\n",
      "Downloading pandas-2.2.3-cp312-cp312-win_amd64.whl (11.5 MB)\n",
      "   ---------------------------------------- 0.0/11.5 MB ? eta -:--:--\n",
      "   ---------------------------------------- 0.1/11.5 MB 3.0 MB/s eta 0:00:04\n",
      "   - -------------------------------------- 0.4/11.5 MB 4.0 MB/s eta 0:00:03\n",
      "   -- ------------------------------------- 0.7/11.5 MB 5.0 MB/s eta 0:00:03\n",
      "   --- ------------------------------------ 0.9/11.5 MB 5.2 MB/s eta 0:00:03\n",
      "   ---- ----------------------------------- 1.2/11.5 MB 4.9 MB/s eta 0:00:03\n",
      "   ----- ---------------------------------- 1.5/11.5 MB 5.3 MB/s eta 0:00:02\n",
      "   ------ --------------------------------- 2.0/11.5 MB 6.0 MB/s eta 0:00:02\n",
      "   -------- ------------------------------- 2.5/11.5 MB 6.6 MB/s eta 0:00:02\n",
      "   ---------- ----------------------------- 3.0/11.5 MB 7.2 MB/s eta 0:00:02\n",
      "   ------------ --------------------------- 3.6/11.5 MB 7.8 MB/s eta 0:00:02\n",
      "   -------------- ------------------------- 4.1/11.5 MB 8.2 MB/s eta 0:00:01\n",
      "   ---------------- ----------------------- 4.8/11.5 MB 8.6 MB/s eta 0:00:01\n",
      "   ------------------- -------------------- 5.7/11.5 MB 9.3 MB/s eta 0:00:01\n",
      "   ---------------------- ----------------- 6.4/11.5 MB 10.0 MB/s eta 0:00:01\n",
      "   ------------------------- -------------- 7.2/11.5 MB 10.3 MB/s eta 0:00:01\n",
      "   --------------------------- ------------ 8.0/11.5 MB 10.6 MB/s eta 0:00:01\n",
      "   ------------------------------- -------- 9.0/11.5 MB 11.3 MB/s eta 0:00:01\n",
      "   --------------------------------- ------ 9.7/11.5 MB 11.5 MB/s eta 0:00:01\n",
      "   ------------------------------------- -- 10.7/11.5 MB 13.4 MB/s eta 0:00:01\n",
      "   ---------------------------------------  11.5/11.5 MB 15.6 MB/s eta 0:00:01\n",
      "   ---------------------------------------- 11.5/11.5 MB 14.5 MB/s eta 0:00:00\n",
      "Downloading pytz-2024.2-py2.py3-none-any.whl (508 kB)\n",
      "   ---------------------------------------- 0.0/508.0 kB ? eta -:--:--\n",
      "   --------------------------------------- 508.0/508.0 kB 31.1 MB/s eta 0:00:00\n",
      "Downloading tzdata-2024.2-py2.py3-none-any.whl (346 kB)\n",
      "   ---------------------------------------- 0.0/346.6 kB ? eta -:--:--\n",
      "   --------------------------------------- 346.6/346.6 kB 21.0 MB/s eta 0:00:00\n",
      "Installing collected packages: pytz, tzdata, pandas\n",
      "Successfully installed pandas-2.2.3 pytz-2024.2 tzdata-2024.2\n",
      "Note: you may need to restart the kernel to use updated packages.\n"
     ]
    },
    {
     "name": "stderr",
     "output_type": "stream",
     "text": [
      "\n",
      "[notice] A new release of pip is available: 24.0 -> 24.2\n",
      "[notice] To update, run: python.exe -m pip install --upgrade pip\n"
     ]
    }
   ],
   "source": [
    "pip install pandas\n"
   ]
  },
  {
   "cell_type": "code",
   "execution_count": 3,
   "metadata": {},
   "outputs": [
    {
     "name": "stdout",
     "output_type": "stream",
     "text": [
      "Requirement already satisfied: pandas in c:\\users\\stellaribeiromafra\\appdata\\local\\programs\\python\\python312\\lib\\site-packages (2.2.3)\n",
      "Requirement already satisfied: numpy>=1.26.0 in c:\\users\\stellaribeiromafra\\appdata\\local\\programs\\python\\python312\\lib\\site-packages (from pandas) (2.1.1)\n",
      "Requirement already satisfied: python-dateutil>=2.8.2 in c:\\users\\stellaribeiromafra\\appdata\\roaming\\python\\python312\\site-packages (from pandas) (2.9.0.post0)\n",
      "Requirement already satisfied: pytz>=2020.1 in c:\\users\\stellaribeiromafra\\appdata\\local\\programs\\python\\python312\\lib\\site-packages (from pandas) (2024.2)\n",
      "Requirement already satisfied: tzdata>=2022.7 in c:\\users\\stellaribeiromafra\\appdata\\local\\programs\\python\\python312\\lib\\site-packages (from pandas) (2024.2)\n",
      "Requirement already satisfied: six>=1.5 in c:\\users\\stellaribeiromafra\\appdata\\roaming\\python\\python312\\site-packages (from python-dateutil>=2.8.2->pandas) (1.16.0)\n",
      "Note: you may need to restart the kernel to use updated packages.\n"
     ]
    },
    {
     "name": "stderr",
     "output_type": "stream",
     "text": [
      "\n",
      "[notice] A new release of pip is available: 24.0 -> 24.2\n",
      "[notice] To update, run: python.exe -m pip install --upgrade pip\n"
     ]
    }
   ],
   "source": [
    "pip install pandas"
   ]
  }
 ],
 "metadata": {
  "kernelspec": {
   "display_name": "Python 3",
   "language": "python",
   "name": "python3"
  },
  "language_info": {
   "codemirror_mode": {
    "name": "ipython",
    "version": 3
   },
   "file_extension": ".py",
   "mimetype": "text/x-python",
   "name": "python",
   "nbconvert_exporter": "python",
   "pygments_lexer": "ipython3",
   "version": "3.12.3"
  }
 },
 "nbformat": 4,
 "nbformat_minor": 2
}
